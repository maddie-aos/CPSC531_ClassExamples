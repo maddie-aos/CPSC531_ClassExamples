{
 "cells": [
  {
   "cell_type": "markdown",
   "metadata": {},
   "source": [
    "Conduct  a  Principal  Component  Analysis  to  investigate  if  you  can  reduce  the  dimension  of  the chemical data set used for assignment #1 without impacting the model's accuracy.  \n",
    "\n",
    "Required Printouts: \n",
    "- Covariance matrix (complete)\n",
    "- Eigenvectors and eigenvalues (complete) \n",
    "- Projection matrix (in progress)\n",
    "- Component matrix and coefficients (loadings) of each PC (in progress)\n",
    "- Explained variance for each PC (in progress)\n",
    "- Correlation matrix between the data set and PC scores (in progress) \n",
    "\n",
    "Resources: \n",
    "1. https://medium.com/analytics-vidhya/principal-component-analysis-from-first-principles-code-walkthrough-pca-b7cc471d7c63\n",
    "2. https://www.datacamp.com/tutorial/principal-component-analysis-in-python\n",
    "3. https://www.districtdatalabs.com/principal-component-analysis-with-python "
   ]
  },
  {
   "cell_type": "code",
   "execution_count": 21,
   "metadata": {},
   "outputs": [
    {
     "name": "stdout",
     "output_type": "stream",
     "text": [
      "Covariance Matrix: \n",
      "              0             1         2         3\n",
      "0  1.000002e+00 -1.039425e-16  0.907897  0.937994\n",
      "1 -1.039425e-16  1.000002e+00  0.330901 -0.308067\n",
      "2  9.078974e-01  3.309008e-01  1.000002  0.750156\n",
      "3  9.379943e-01 -3.080671e-01  0.750156  1.000002\n",
      "Eigenvectors : \n",
      "          0\n",
      "0  2.733279\n",
      "1  0.011874\n",
      "2  0.042526\n",
      "3  1.212330\n",
      "Eigenvalues: \n",
      "          0\n",
      "0  2.733279\n",
      "1  0.011874\n",
      "2  0.042526\n",
      "3  1.212330\n"
     ]
    }
   ],
   "source": [
    "import numpy as np\n",
    "import pandas as pd\n",
    "import matplotlib.pyplot as plt\n",
    "import scipy as sp\n",
    "import sklearn as sk\n",
    "from sklearn.preprocessing import StandardScaler\n",
    "\n",
    "gas_data = pd.read_csv('/Users/maddie/Projects/CPSC_483/Data1.csv')\n",
    "gas_data.head()\n",
    "x = gas_data.values[:, 0:4]\n",
    "y = gas_data.values[:, 4]\n",
    "\n",
    "#starting off with scaling the data so that way comparison can be done evenly and effective\n",
    "standard_x = StandardScaler().fit_transform(x)\n",
    "standard_x.shape\n",
    "\n",
    "#creating the covariance matrix\n",
    "mean_vector = np.mean(standard_x, axis= 0)\n",
    "covariance_matrix = (standard_x - mean_vector).T.dot((standard_x-mean_vector))/(standard_x.shape[0]-1)\n",
    "covar_mat = pd.DataFrame(covariance_matrix)\n",
    "print ('Covariance Matrix: \\n%s' %covar_mat)\n",
    "\n",
    "\n",
    "#Calculating and printing the eigenvectors and eigenvalues \n",
    "covariance_matrix = np.cov(standard_x.T)\n",
    "eig_val, eig_vec = np.linalg.eig(covariance_matrix)\n",
    "eigen_values = pd.DataFrame(eig_val)\n",
    "eigen_vectors = pd.DataFrame(eig_val)\n",
    "print ('Eigenvectors : \\n%s' %eigen_vectors)\n",
    "print ('Eigenvalues: \\n%s' %eigen_values)\n",
    "\n",
    "\n",
    "#Creating the projection matrix\n",
    "\n"
   ]
  }
 ],
 "metadata": {
  "kernelspec": {
   "display_name": "Python 3.9.7 ('base')",
   "language": "python",
   "name": "python3"
  },
  "language_info": {
   "codemirror_mode": {
    "name": "ipython",
    "version": 3
   },
   "file_extension": ".py",
   "mimetype": "text/x-python",
   "name": "python",
   "nbconvert_exporter": "python",
   "pygments_lexer": "ipython3",
   "version": "3.9.7"
  },
  "orig_nbformat": 4,
  "vscode": {
   "interpreter": {
    "hash": "4624e6697a0031784eb693c6f40396b07cc796092abab14ba65c66bb0661ee7e"
   }
  }
 },
 "nbformat": 4,
 "nbformat_minor": 2
}
